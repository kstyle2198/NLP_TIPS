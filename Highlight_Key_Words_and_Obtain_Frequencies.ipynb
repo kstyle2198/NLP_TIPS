{
  "nbformat": 4,
  "nbformat_minor": 0,
  "metadata": {
    "colab": {
      "provenance": [],
      "mount_file_id": "1mDIPxxymhI0oMGvtpzNez9VzBPzOsIS-",
      "authorship_tag": "ABX9TyNpi6R1tJTkZxnzSfXqjxgX",
      "include_colab_link": true
    },
    "kernelspec": {
      "name": "python3",
      "display_name": "Python 3"
    },
    "language_info": {
      "name": "python"
    }
  },
  "cells": [
    {
      "cell_type": "markdown",
      "metadata": {
        "id": "view-in-github",
        "colab_type": "text"
      },
      "source": [
        "<a href=\"https://colab.research.google.com/github/kstyle2198/NLP_TIPS/blob/main/Highlight_Key_Words_and_Obtain_Frequencies.ipynb\" target=\"_parent\"><img src=\"https://colab.research.google.com/assets/colab-badge.svg\" alt=\"Open In Colab\"/></a>"
      ]
    },
    {
      "cell_type": "markdown",
      "source": [
        "https://towardsdatascience.com/the-beginning-of-information-extraction-highlight-key-words-and-obtain-frequencies-a03da0a1ba71"
      ],
      "metadata": {
        "id": "7dLAgisy-Lso"
      }
    },
    {
      "cell_type": "markdown",
      "source": [
        "PDF 파일 첨부 및 검색 대상 키워드들을 지정후 함수 실행시, 첨부 PDF상 키워드 컬러링 및 빈도수 반환함"
      ],
      "metadata": {
        "id": "e_MuUZGGA2wr"
      }
    },
    {
      "cell_type": "code",
      "source": [
        "!pip install PyMuPDF"
      ],
      "metadata": {
        "colab": {
          "base_uri": "https://localhost:8080/"
        },
        "id": "b9tsvN5S-YJG",
        "outputId": "5d31e583-e6be-4fe4-8c0a-0624fe2a4adf"
      },
      "execution_count": 1,
      "outputs": [
        {
          "output_type": "stream",
          "name": "stdout",
          "text": [
            "Requirement already satisfied: PyMuPDF in /usr/local/lib/python3.10/dist-packages (1.23.8)\n",
            "Requirement already satisfied: PyMuPDFb==1.23.7 in /usr/local/lib/python3.10/dist-packages (from PyMuPDF) (1.23.7)\n"
          ]
        }
      ]
    },
    {
      "cell_type": "code",
      "execution_count": 3,
      "metadata": {
        "id": "9yA_qqEq-FO_"
      },
      "outputs": [],
      "source": [
        "import fitz\n",
        "from collections import Counter"
      ]
    },
    {
      "cell_type": "code",
      "source": [
        "def highlight_terms_and_count(input_pdf_path, output_pdf_path, terms_to_highlight, output_text_file):\n",
        "\n",
        "  # Open the PDF file\n",
        "  pdf_document = fitz.open(input_pdf_path)\n",
        "  term_counter = Counter()\n",
        "\n",
        "  for page_number in range(len(pdf_document)):\n",
        "      page = pdf_document[page_number]\n",
        "      # Get the text on the page\n",
        "      text = page.get_text()\n",
        "\n",
        "      for term in terms_to_highlight:\n",
        "          term_instances = page.search_for(term)\n",
        "          term_counter[term] += len(term_instances)  # Count term instances on this page\n",
        "\n",
        "          for term_rect in term_instances:\n",
        "              # Create a highlight annotation\n",
        "              highlight = page.add_highlight_annot(term_rect)\n",
        "              # Set the color of the highlight (e.g., yellow)\n",
        "              highlight.set_colors(stroke=(1, 1, 0))\n",
        "              # Set the opacity of the highlight (0 to 1)\n",
        "              highlight.set_opacity(0.5)\n",
        "\n",
        "  # Save the modified PDF\n",
        "  pdf_document.save(output_pdf_path)\n",
        "  pdf_document.close()\n",
        "\n",
        "  # Save term frequencies to a text file\n",
        "  with open(output_text_file, 'w') as text_file:\n",
        "      for term, frequency in term_counter.items():\n",
        "          text_file.write(f\"{term}: {frequency}\\n\")"
      ],
      "metadata": {
        "id": "2H65UUAT-PtP"
      },
      "execution_count": 7,
      "outputs": []
    },
    {
      "cell_type": "code",
      "source": [
        "if __name__ == \"__main__\":\n",
        "    input_pdf_path = \"/content/drive/MyDrive/data/Attention_is_All_you_need.pdf\"  # Replace with your input PDF file\n",
        "    output_pdf_path = \"/content/output.pdf\"  # Replace with your output PDF file\n",
        "    terms_to_highlight = [\"encode\", \"decode\"]  # Add the terms you want to highlight\n",
        "    output_text_file = \"/content/term_frequencies.txt\"  # Text file to store term frequencies\n",
        "\n",
        "    highlight_terms_and_count(input_pdf_path, output_pdf_path, terms_to_highlight, output_text_file)"
      ],
      "metadata": {
        "id": "2xCs-Enh-PqP"
      },
      "execution_count": 8,
      "outputs": []
    },
    {
      "cell_type": "code",
      "source": [],
      "metadata": {
        "id": "efocScm6-PnB"
      },
      "execution_count": null,
      "outputs": []
    },
    {
      "cell_type": "code",
      "source": [],
      "metadata": {
        "id": "8zA-Lucy-Pld"
      },
      "execution_count": null,
      "outputs": []
    },
    {
      "cell_type": "code",
      "source": [],
      "metadata": {
        "id": "Uz6edczG-Ph5"
      },
      "execution_count": null,
      "outputs": []
    },
    {
      "cell_type": "code",
      "source": [],
      "metadata": {
        "id": "WDzyMrXj-Pek"
      },
      "execution_count": null,
      "outputs": []
    }
  ]
}