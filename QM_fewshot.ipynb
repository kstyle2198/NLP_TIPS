{
  "nbformat": 4,
  "nbformat_minor": 0,
  "metadata": {
    "colab": {
      "provenance": [],
      "gpuType": "V100",
      "toc_visible": true,
      "authorship_tag": "ABX9TyM2n+N794pXRmV+bGvnrVVh",
      "include_colab_link": true
    },
    "kernelspec": {
      "name": "python3",
      "display_name": "Python 3"
    },
    "language_info": {
      "name": "python"
    },
    "accelerator": "GPU"
  },
  "cells": [
    {
      "cell_type": "markdown",
      "metadata": {
        "id": "view-in-github",
        "colab_type": "text"
      },
      "source": [
        "<a href=\"https://colab.research.google.com/github/kstyle2198/NLP_TIPS/blob/main/QM_fewshot.ipynb\" target=\"_parent\"><img src=\"https://colab.research.google.com/assets/colab-badge.svg\" alt=\"Open In Colab\"/></a>"
      ]
    },
    {
      "cell_type": "code",
      "execution_count": null,
      "metadata": {
        "id": "3lQwaOnAnyEJ"
      },
      "outputs": [],
      "source": [
        "import pandas as pd\n",
        "pd.set_option('display.max_colwidth', 60000)\n",
        "pd.set_option('display.max_columns', 1000)\n",
        "pd.set_option('display.max_rows', 1000)\n",
        "\n",
        "import warnings\n",
        "warnings.filterwarnings(action='ignore')\n",
        "\n",
        "import numpy as np\n",
        "\n",
        "from tqdm import tqdm\n",
        "from IPython.core.interactiveshell import InteractiveShell\n",
        "InteractiveShell.ast_node_interactivity = \"all\"\n",
        "\n",
        "from tensorflow.keras.utils import to_categorical"
      ]
    },
    {
      "cell_type": "code",
      "source": [
        "import nltk\n",
        "nltk.download('wordnet')\n",
        "nltk.download('omw-1.4')"
      ],
      "metadata": {
        "id": "IC8KJ4GWn1SH",
        "colab": {
          "base_uri": "https://localhost:8080/"
        },
        "outputId": "04d96033-4ccb-4ad6-dbb0-bb696bc72cf3"
      },
      "execution_count": null,
      "outputs": [
        {
          "metadata": {
            "tags": null
          },
          "name": "stderr",
          "output_type": "stream",
          "text": [
            "[nltk_data] Downloading package wordnet to /root/nltk_data...\n"
          ]
        },
        {
          "data": {
            "text/plain": [
              "True"
            ]
          },
          "execution_count": 2,
          "metadata": {},
          "output_type": "execute_result"
        },
        {
          "metadata": {
            "tags": null
          },
          "name": "stderr",
          "output_type": "stream",
          "text": [
            "[nltk_data] Downloading package omw-1.4 to /root/nltk_data...\n"
          ]
        },
        {
          "data": {
            "text/plain": [
              "True"
            ]
          },
          "execution_count": 2,
          "metadata": {},
          "output_type": "execute_result"
        }
      ]
    },
    {
      "cell_type": "markdown",
      "source": [
        "# Data Load"
      ],
      "metadata": {
        "id": "i9eWBozbHifU"
      }
    },
    {
      "cell_type": "code",
      "source": [
        "from google.colab import files\n",
        "uploaded = files.upload()"
      ],
      "metadata": {
        "colab": {
          "base_uri": "https://localhost:8080/",
          "height": 379
        },
        "id": "p6az3DYVInSL",
        "outputId": "84a0ea4b-540e-4e7b-d910-c090002aa882"
      },
      "execution_count": null,
      "outputs": [
        {
          "data": {
            "text/html": [
              "\n",
              "     <input type=\"file\" id=\"files-69d68364-5c6e-4469-aa6a-b69d9c174fb0\" name=\"files[]\" multiple disabled\n",
              "        style=\"border:none\" />\n",
              "     <output id=\"result-69d68364-5c6e-4469-aa6a-b69d9c174fb0\">\n",
              "      Upload widget is only available when the cell has been executed in the\n",
              "      current browser session. Please rerun this cell to enable.\n",
              "      </output>\n",
              "      <script>// Copyright 2017 Google LLC\n",
              "//\n",
              "// Licensed under the Apache License, Version 2.0 (the \"License\");\n",
              "// you may not use this file except in compliance with the License.\n",
              "// You may obtain a copy of the License at\n",
              "//\n",
              "//      http://www.apache.org/licenses/LICENSE-2.0\n",
              "//\n",
              "// Unless required by applicable law or agreed to in writing, software\n",
              "// distributed under the License is distributed on an \"AS IS\" BASIS,\n",
              "// WITHOUT WARRANTIES OR CONDITIONS OF ANY KIND, either express or implied.\n",
              "// See the License for the specific language governing permissions and\n",
              "// limitations under the License.\n",
              "\n",
              "/**\n",
              " * @fileoverview Helpers for google.colab Python module.\n",
              " */\n",
              "(function(scope) {\n",
              "function span(text, styleAttributes = {}) {\n",
              "  const element = document.createElement('span');\n",
              "  element.textContent = text;\n",
              "  for (const key of Object.keys(styleAttributes)) {\n",
              "    element.style[key] = styleAttributes[key];\n",
              "  }\n",
              "  return element;\n",
              "}\n",
              "\n",
              "// Max number of bytes which will be uploaded at a time.\n",
              "const MAX_PAYLOAD_SIZE = 100 * 1024;\n",
              "\n",
              "function _uploadFiles(inputId, outputId) {\n",
              "  const steps = uploadFilesStep(inputId, outputId);\n",
              "  const outputElement = document.getElementById(outputId);\n",
              "  // Cache steps on the outputElement to make it available for the next call\n",
              "  // to uploadFilesContinue from Python.\n",
              "  outputElement.steps = steps;\n",
              "\n",
              "  return _uploadFilesContinue(outputId);\n",
              "}\n",
              "\n",
              "// This is roughly an async generator (not supported in the browser yet),\n",
              "// where there are multiple asynchronous steps and the Python side is going\n",
              "// to poll for completion of each step.\n",
              "// This uses a Promise to block the python side on completion of each step,\n",
              "// then passes the result of the previous step as the input to the next step.\n",
              "function _uploadFilesContinue(outputId) {\n",
              "  const outputElement = document.getElementById(outputId);\n",
              "  const steps = outputElement.steps;\n",
              "\n",
              "  const next = steps.next(outputElement.lastPromiseValue);\n",
              "  return Promise.resolve(next.value.promise).then((value) => {\n",
              "    // Cache the last promise value to make it available to the next\n",
              "    // step of the generator.\n",
              "    outputElement.lastPromiseValue = value;\n",
              "    return next.value.response;\n",
              "  });\n",
              "}\n",
              "\n",
              "/**\n",
              " * Generator function which is called between each async step of the upload\n",
              " * process.\n",
              " * @param {string} inputId Element ID of the input file picker element.\n",
              " * @param {string} outputId Element ID of the output display.\n",
              " * @return {!Iterable<!Object>} Iterable of next steps.\n",
              " */\n",
              "function* uploadFilesStep(inputId, outputId) {\n",
              "  const inputElement = document.getElementById(inputId);\n",
              "  inputElement.disabled = false;\n",
              "\n",
              "  const outputElement = document.getElementById(outputId);\n",
              "  outputElement.innerHTML = '';\n",
              "\n",
              "  const pickedPromise = new Promise((resolve) => {\n",
              "    inputElement.addEventListener('change', (e) => {\n",
              "      resolve(e.target.files);\n",
              "    });\n",
              "  });\n",
              "\n",
              "  const cancel = document.createElement('button');\n",
              "  inputElement.parentElement.appendChild(cancel);\n",
              "  cancel.textContent = 'Cancel upload';\n",
              "  const cancelPromise = new Promise((resolve) => {\n",
              "    cancel.onclick = () => {\n",
              "      resolve(null);\n",
              "    };\n",
              "  });\n",
              "\n",
              "  // Wait for the user to pick the files.\n",
              "  const files = yield {\n",
              "    promise: Promise.race([pickedPromise, cancelPromise]),\n",
              "    response: {\n",
              "      action: 'starting',\n",
              "    }\n",
              "  };\n",
              "\n",
              "  cancel.remove();\n",
              "\n",
              "  // Disable the input element since further picks are not allowed.\n",
              "  inputElement.disabled = true;\n",
              "\n",
              "  if (!files) {\n",
              "    return {\n",
              "      response: {\n",
              "        action: 'complete',\n",
              "      }\n",
              "    };\n",
              "  }\n",
              "\n",
              "  for (const file of files) {\n",
              "    const li = document.createElement('li');\n",
              "    li.append(span(file.name, {fontWeight: 'bold'}));\n",
              "    li.append(span(\n",
              "        `(${file.type || 'n/a'}) - ${file.size} bytes, ` +\n",
              "        `last modified: ${\n",
              "            file.lastModifiedDate ? file.lastModifiedDate.toLocaleDateString() :\n",
              "                                    'n/a'} - `));\n",
              "    const percent = span('0% done');\n",
              "    li.appendChild(percent);\n",
              "\n",
              "    outputElement.appendChild(li);\n",
              "\n",
              "    const fileDataPromise = new Promise((resolve) => {\n",
              "      const reader = new FileReader();\n",
              "      reader.onload = (e) => {\n",
              "        resolve(e.target.result);\n",
              "      };\n",
              "      reader.readAsArrayBuffer(file);\n",
              "    });\n",
              "    // Wait for the data to be ready.\n",
              "    let fileData = yield {\n",
              "      promise: fileDataPromise,\n",
              "      response: {\n",
              "        action: 'continue',\n",
              "      }\n",
              "    };\n",
              "\n",
              "    // Use a chunked sending to avoid message size limits. See b/62115660.\n",
              "    let position = 0;\n",
              "    do {\n",
              "      const length = Math.min(fileData.byteLength - position, MAX_PAYLOAD_SIZE);\n",
              "      const chunk = new Uint8Array(fileData, position, length);\n",
              "      position += length;\n",
              "\n",
              "      const base64 = btoa(String.fromCharCode.apply(null, chunk));\n",
              "      yield {\n",
              "        response: {\n",
              "          action: 'append',\n",
              "          file: file.name,\n",
              "          data: base64,\n",
              "        },\n",
              "      };\n",
              "\n",
              "      let percentDone = fileData.byteLength === 0 ?\n",
              "          100 :\n",
              "          Math.round((position / fileData.byteLength) * 100);\n",
              "      percent.textContent = `${percentDone}% done`;\n",
              "\n",
              "    } while (position < fileData.byteLength);\n",
              "  }\n",
              "\n",
              "  // All done.\n",
              "  yield {\n",
              "    response: {\n",
              "      action: 'complete',\n",
              "    }\n",
              "  };\n",
              "}\n",
              "\n",
              "scope.google = scope.google || {};\n",
              "scope.google.colab = scope.google.colab || {};\n",
              "scope.google.colab._files = {\n",
              "  _uploadFiles,\n",
              "  _uploadFilesContinue,\n",
              "};\n",
              "})(self);\n",
              "</script> "
            ],
            "text/plain": [
              "<IPython.core.display.HTML object>"
            ]
          },
          "metadata": {},
          "output_type": "display_data"
        },
        {
          "output_type": "error",
          "ename": "KeyboardInterrupt",
          "evalue": "",
          "traceback": [
            "\u001b[0;31m---------------------------------------------------------------------------\u001b[0m",
            "\u001b[0;31mKeyboardInterrupt\u001b[0m                         Traceback (most recent call last)",
            "\u001b[0;32m<ipython-input-3-21dc3c638f66>\u001b[0m in \u001b[0;36m<cell line: 2>\u001b[0;34m()\u001b[0m\n\u001b[1;32m      1\u001b[0m \u001b[0;32mfrom\u001b[0m \u001b[0mgoogle\u001b[0m\u001b[0;34m.\u001b[0m\u001b[0mcolab\u001b[0m \u001b[0;32mimport\u001b[0m \u001b[0mfiles\u001b[0m\u001b[0;34m\u001b[0m\u001b[0;34m\u001b[0m\u001b[0m\n\u001b[0;32m----> 2\u001b[0;31m \u001b[0muploaded\u001b[0m \u001b[0;34m=\u001b[0m \u001b[0mfiles\u001b[0m\u001b[0;34m.\u001b[0m\u001b[0mupload\u001b[0m\u001b[0;34m(\u001b[0m\u001b[0;34m)\u001b[0m\u001b[0;34m\u001b[0m\u001b[0;34m\u001b[0m\u001b[0m\n\u001b[0m",
            "\u001b[0;32m/usr/local/lib/python3.10/dist-packages/google/colab/files.py\u001b[0m in \u001b[0;36mupload\u001b[0;34m()\u001b[0m\n\u001b[1;32m     67\u001b[0m   \"\"\"\n\u001b[1;32m     68\u001b[0m \u001b[0;34m\u001b[0m\u001b[0m\n\u001b[0;32m---> 69\u001b[0;31m   \u001b[0muploaded_files\u001b[0m \u001b[0;34m=\u001b[0m \u001b[0m_upload_files\u001b[0m\u001b[0;34m(\u001b[0m\u001b[0mmultiple\u001b[0m\u001b[0;34m=\u001b[0m\u001b[0;32mTrue\u001b[0m\u001b[0;34m)\u001b[0m\u001b[0;34m\u001b[0m\u001b[0;34m\u001b[0m\u001b[0m\n\u001b[0m\u001b[1;32m     70\u001b[0m   \u001b[0;31m# Mapping from original filename to filename as saved locally.\u001b[0m\u001b[0;34m\u001b[0m\u001b[0;34m\u001b[0m\u001b[0m\n\u001b[1;32m     71\u001b[0m   \u001b[0mlocal_filenames\u001b[0m \u001b[0;34m=\u001b[0m \u001b[0mdict\u001b[0m\u001b[0;34m(\u001b[0m\u001b[0;34m)\u001b[0m\u001b[0;34m\u001b[0m\u001b[0;34m\u001b[0m\u001b[0m\n",
            "\u001b[0;32m/usr/local/lib/python3.10/dist-packages/google/colab/files.py\u001b[0m in \u001b[0;36m_upload_files\u001b[0;34m(multiple)\u001b[0m\n\u001b[1;32m    154\u001b[0m \u001b[0;34m\u001b[0m\u001b[0m\n\u001b[1;32m    155\u001b[0m   \u001b[0;31m# First result is always an indication that the file picker has completed.\u001b[0m\u001b[0;34m\u001b[0m\u001b[0;34m\u001b[0m\u001b[0m\n\u001b[0;32m--> 156\u001b[0;31m   result = _output.eval_js(\n\u001b[0m\u001b[1;32m    157\u001b[0m       'google.colab._files._uploadFiles(\"{input_id}\", \"{output_id}\")'.format(\n\u001b[1;32m    158\u001b[0m           \u001b[0minput_id\u001b[0m\u001b[0;34m=\u001b[0m\u001b[0minput_id\u001b[0m\u001b[0;34m,\u001b[0m \u001b[0moutput_id\u001b[0m\u001b[0;34m=\u001b[0m\u001b[0moutput_id\u001b[0m\u001b[0;34m\u001b[0m\u001b[0;34m\u001b[0m\u001b[0m\n",
            "\u001b[0;32m/usr/local/lib/python3.10/dist-packages/google/colab/output/_js.py\u001b[0m in \u001b[0;36meval_js\u001b[0;34m(script, ignore_result, timeout_sec)\u001b[0m\n\u001b[1;32m     38\u001b[0m   \u001b[0;32mif\u001b[0m \u001b[0mignore_result\u001b[0m\u001b[0;34m:\u001b[0m\u001b[0;34m\u001b[0m\u001b[0;34m\u001b[0m\u001b[0m\n\u001b[1;32m     39\u001b[0m     \u001b[0;32mreturn\u001b[0m\u001b[0;34m\u001b[0m\u001b[0;34m\u001b[0m\u001b[0m\n\u001b[0;32m---> 40\u001b[0;31m   \u001b[0;32mreturn\u001b[0m \u001b[0m_message\u001b[0m\u001b[0;34m.\u001b[0m\u001b[0mread_reply_from_input\u001b[0m\u001b[0;34m(\u001b[0m\u001b[0mrequest_id\u001b[0m\u001b[0;34m,\u001b[0m \u001b[0mtimeout_sec\u001b[0m\u001b[0;34m)\u001b[0m\u001b[0;34m\u001b[0m\u001b[0;34m\u001b[0m\u001b[0m\n\u001b[0m\u001b[1;32m     41\u001b[0m \u001b[0;34m\u001b[0m\u001b[0m\n\u001b[1;32m     42\u001b[0m \u001b[0;34m\u001b[0m\u001b[0m\n",
            "\u001b[0;32m/usr/local/lib/python3.10/dist-packages/google/colab/_message.py\u001b[0m in \u001b[0;36mread_reply_from_input\u001b[0;34m(message_id, timeout_sec)\u001b[0m\n\u001b[1;32m     94\u001b[0m     \u001b[0mreply\u001b[0m \u001b[0;34m=\u001b[0m \u001b[0m_read_next_input_message\u001b[0m\u001b[0;34m(\u001b[0m\u001b[0;34m)\u001b[0m\u001b[0;34m\u001b[0m\u001b[0;34m\u001b[0m\u001b[0m\n\u001b[1;32m     95\u001b[0m     \u001b[0;32mif\u001b[0m \u001b[0mreply\u001b[0m \u001b[0;34m==\u001b[0m \u001b[0m_NOT_READY\u001b[0m \u001b[0;32mor\u001b[0m \u001b[0;32mnot\u001b[0m \u001b[0misinstance\u001b[0m\u001b[0;34m(\u001b[0m\u001b[0mreply\u001b[0m\u001b[0;34m,\u001b[0m \u001b[0mdict\u001b[0m\u001b[0;34m)\u001b[0m\u001b[0;34m:\u001b[0m\u001b[0;34m\u001b[0m\u001b[0;34m\u001b[0m\u001b[0m\n\u001b[0;32m---> 96\u001b[0;31m       \u001b[0mtime\u001b[0m\u001b[0;34m.\u001b[0m\u001b[0msleep\u001b[0m\u001b[0;34m(\u001b[0m\u001b[0;36m0.025\u001b[0m\u001b[0;34m)\u001b[0m\u001b[0;34m\u001b[0m\u001b[0;34m\u001b[0m\u001b[0m\n\u001b[0m\u001b[1;32m     97\u001b[0m       \u001b[0;32mcontinue\u001b[0m\u001b[0;34m\u001b[0m\u001b[0;34m\u001b[0m\u001b[0m\n\u001b[1;32m     98\u001b[0m     if (\n",
            "\u001b[0;31mKeyboardInterrupt\u001b[0m: "
          ]
        }
      ]
    },
    {
      "cell_type": "code",
      "source": [
        "df = pd.read_excel(\"dataset02.xlsx\")\n",
        "df.head(1)\n",
        "df.shape"
      ],
      "metadata": {
        "id": "18ClPZyvIqtL"
      },
      "execution_count": null,
      "outputs": []
    },
    {
      "cell_type": "markdown",
      "source": [
        "# Preprocessing"
      ],
      "metadata": {
        "id": "qfU69OnCHkzr"
      }
    },
    {
      "cell_type": "code",
      "source": [
        "df = df[[\"호선\", \"코멘트번호\", \"제목\", \"문제내용\", \"처리부서\", \"처리과\", \"회신내용\", \"구역\", \"LOCATION\", \"BLOCK\"]]\n",
        "df.shape"
      ],
      "metadata": {
        "id": "8wOGa4YDn086"
      },
      "execution_count": null,
      "outputs": []
    },
    {
      "cell_type": "code",
      "source": [
        "text_to_drop = ['이관', \"재지정\", \"재 지정\"]\n",
        "for drop_word in text_to_drop:\n",
        "    df = df[~df['회신내용'].str.contains(drop_word, regex=True, na=False)]\n",
        "df.shape"
      ],
      "metadata": {
        "id": "DsoCk_ILn06O"
      },
      "execution_count": null,
      "outputs": []
    },
    {
      "cell_type": "code",
      "source": [
        "def contains_word(main_string, target_word):\n",
        "    return target_word in main_string\n",
        "\n",
        "기준직능 = [\"선장\", \"기장\",\"전장\", \"선실\", \"엔진\", \"기관\", \"기계\", \"도장\", \"건조\", \"시운전\",\"발판\", \"보냉\", \"공사\"]\n",
        "         #\"의장\", \"설계\",\"선행\",\n",
        "\n",
        "def 직능구하기(string):\n",
        "    global 기준직능\n",
        "    result = \"일반\"\n",
        "    for 직능 in 기준직능:\n",
        "        if contains_word(str(string), 직능):\n",
        "            result = 직능\n",
        "        else:\n",
        "            pass\n",
        "    return result\n",
        "\n",
        "df[\"직능\"] = df[\"처리과\"].apply(직능구하기)\n",
        "\n",
        "df[\"직능\"].fillna(\"일반\", inplace=True)\n",
        "df[\"직능\"].value_counts()"
      ],
      "metadata": {
        "id": "lMCRofV3n03Y"
      },
      "execution_count": null,
      "outputs": []
    },
    {
      "cell_type": "code",
      "source": [
        "df['직능'] = df['직능'].str.replace(\"보냉\", '도장', regex=True)\n",
        "df['직능'] = df['직능'].str.replace(\"발판\", '도장', regex=True)"
      ],
      "metadata": {
        "id": "uHziol56oIfl"
      },
      "execution_count": null,
      "outputs": []
    },
    {
      "cell_type": "code",
      "source": [
        "df.shape\n",
        "df = df[df[\"직능\"]!=\"일반\"]\n",
        "df.shape"
      ],
      "metadata": {
        "id": "k4WFQETGoIdf"
      },
      "execution_count": null,
      "outputs": []
    },
    {
      "cell_type": "code",
      "source": [
        "df = df.drop_duplicates(subset='코멘트번호', keep='first')\n",
        "df.shape"
      ],
      "metadata": {
        "id": "JSiSOG-roIa6"
      },
      "execution_count": null,
      "outputs": []
    },
    {
      "cell_type": "code",
      "source": [
        "import functools # not required, but helps in production\n",
        "def unpack_df_columns(func):\n",
        "\n",
        "    @functools.wraps(func)\n",
        "    def _unpack_df_columns(*args, **kwargs):\n",
        "\n",
        "        series = args[0]\n",
        "        return func(*series.values)\n",
        "\n",
        "    return _unpack_df_columns\n",
        "\n",
        "def jaccard_simil(a, b):\n",
        "    intersection_cardinality = len(set.intersection(*[set(str(a)), set(str(b))]))\n",
        "    union_cardinality = len(set.union(*[set(str(a)), set(str(b))]))\n",
        "    similar = intersection_cardinality / float(union_cardinality)\n",
        "    return similar\n",
        "\n",
        "@unpack_df_columns\n",
        "def 문장병합(제목, 문제내용):\n",
        "    '''\n",
        "    자카드유사도가 일정 수준 이상이면 제목과 문제내용중 길이가 긴 내용만 살리기\n",
        "    '''\n",
        "    자카드유사도 = jaccard_simil(제목, 문제내용)\n",
        "    thresh = 0.9  # 유사도 커트라인\n",
        "\n",
        "    if 자카드유사도 > thresh:\n",
        "        if len(str(제목)) > len(str(문제내용)):\n",
        "            return 문제내용\n",
        "        else:\n",
        "            return 제목\n",
        "    else:\n",
        "        return f\"{제목} {문제내용}\""
      ],
      "metadata": {
        "id": "vGayzKokoIYd"
      },
      "execution_count": null,
      "outputs": []
    },
    {
      "cell_type": "code",
      "source": [
        "df['comment'] = df[['제목',\"문제내용\"]].apply(문장병합, axis=1)\n",
        "df.dropna(subset=[\"comment\"], inplace=True)"
      ],
      "metadata": {
        "id": "MC3oaPO5oIV8"
      },
      "execution_count": null,
      "outputs": []
    },
    {
      "cell_type": "code",
      "source": [
        "korean_pattern = '[\\u3131-\\u3163\\uac00-\\ud7a3]+'\n",
        "df = df[~df['comment'].str.contains(korean_pattern, regex=True)]"
      ],
      "metadata": {
        "id": "7RM-gvFrn0xJ"
      },
      "execution_count": null,
      "outputs": []
    },
    {
      "cell_type": "code",
      "source": [
        "df1 =df[[\"comment\", \"직능\"]]\n",
        "df1.columns = [\"text\", \"label\"]\n",
        "df1 = df1.reset_index(drop=True)\n",
        "df1.head(2)"
      ],
      "metadata": {
        "id": "v0IQuw2BoSmf"
      },
      "execution_count": null,
      "outputs": []
    },
    {
      "cell_type": "code",
      "source": [
        "new_labels = {'기관':0, '기장':1, '선장':2, '전장':3, '선실':4, '건조':5, '시운전':6, '도장':7, '엔진':8, '기계':9, '공사':10}\n",
        "df1[\"label\"] = df1[\"label\"].replace(to_replace=new_labels)\n",
        "df1[\"label\"]"
      ],
      "metadata": {
        "id": "qAcA0OrykX0W"
      },
      "execution_count": null,
      "outputs": []
    },
    {
      "cell_type": "code",
      "source": [
        "classes = new_labels.keys()\n",
        "classes = list(classes)\n",
        "classes"
      ],
      "metadata": {
        "id": "MWQaL4SGkXxk"
      },
      "execution_count": null,
      "outputs": []
    },
    {
      "cell_type": "markdown",
      "source": [
        "# Train, Val, Test Dataset 분리"
      ],
      "metadata": {
        "id": "GmlE4kwlHql5"
      }
    },
    {
      "cell_type": "code",
      "source": [
        "from sklearn.model_selection import train_test_split\n",
        "df1.shape\n",
        "train, val= train_test_split(df1, test_size=0.3, random_state=123, shuffle=True, stratify=df1[\"label\"])\n",
        "train.shape, val.shape"
      ],
      "metadata": {
        "id": "MJb1X6IVoSj_"
      },
      "execution_count": null,
      "outputs": []
    },
    {
      "cell_type": "code",
      "source": [
        "val, test= train_test_split(val, test_size=0.3, random_state=123, shuffle=True, stratify=val[\"label\"])\n",
        "\n",
        "val.shape, test.shape"
      ],
      "metadata": {
        "id": "i5Y2g3QooSg3"
      },
      "execution_count": null,
      "outputs": []
    },
    {
      "cell_type": "code",
      "source": [
        "!pip install datasets transformers accelerate setfit"
      ],
      "metadata": {
        "id": "dQW6H1dZocW1"
      },
      "execution_count": null,
      "outputs": []
    },
    {
      "cell_type": "code",
      "source": [
        "from datasets import Dataset, DatasetDict"
      ],
      "metadata": {
        "id": "Vcj21kPCocUf"
      },
      "execution_count": null,
      "outputs": []
    },
    {
      "cell_type": "code",
      "source": [
        "train1 = Dataset.from_pandas(train)\n",
        "val1 = Dataset.from_pandas(val)\n",
        "test1  = Dataset.from_pandas(test)"
      ],
      "metadata": {
        "id": "ZFuImU1CocRu"
      },
      "execution_count": null,
      "outputs": []
    },
    {
      "cell_type": "code",
      "source": [
        "dataset = DatasetDict()"
      ],
      "metadata": {
        "id": "V51M76XRocPY"
      },
      "execution_count": null,
      "outputs": []
    },
    {
      "cell_type": "code",
      "source": [
        "dataset[\"train\"] = train1\n",
        "dataset[\"validation\"] = val1\n",
        "dataset[\"test\"] = test1"
      ],
      "metadata": {
        "id": "nO0SMTRxocMy"
      },
      "execution_count": null,
      "outputs": []
    },
    {
      "cell_type": "code",
      "source": [
        "train_dataset = dataset[\"train\"]\n",
        "val_dataset = dataset[\"validation\"]\n",
        "test_dataset = dataset[\"test\"]"
      ],
      "metadata": {
        "id": "ZZN97tchocKd"
      },
      "execution_count": null,
      "outputs": []
    },
    {
      "cell_type": "code",
      "source": [
        "train_dataset"
      ],
      "metadata": {
        "id": "At30fbS1oiiv"
      },
      "execution_count": null,
      "outputs": []
    },
    {
      "cell_type": "code",
      "source": [
        "val_dataset"
      ],
      "metadata": {
        "id": "aihKR0d5U1CP"
      },
      "execution_count": null,
      "outputs": []
    },
    {
      "cell_type": "code",
      "source": [
        "test_dataset"
      ],
      "metadata": {
        "id": "xOMIL51xU-aF"
      },
      "execution_count": null,
      "outputs": []
    },
    {
      "cell_type": "code",
      "source": [
        "def get_train_dataset(dataset, N):\n",
        "    ids = []\n",
        "    label2count = {}\n",
        "    train_dataset = dataset['train'].shuffle(seed=41)\n",
        "    for id, example in enumerate(train_dataset):\n",
        "        if example['label'] not in label2count:\n",
        "            label2count[example['label']]=1\n",
        "        elif label2count[example['label']]>=N:\n",
        "            continue\n",
        "        else:\n",
        "            label2count[example['label']]+=1\n",
        "        ids.append(id)\n",
        "    return train_dataset.select(ids)"
      ],
      "metadata": {
        "id": "PYEjFngJefFd"
      },
      "execution_count": null,
      "outputs": []
    },
    {
      "cell_type": "code",
      "source": [
        "N = 5\n",
        "train_dataset = get_train_dataset(dataset, N)\n",
        "train_dataset"
      ],
      "metadata": {
        "id": "DoI-tNJNefAU"
      },
      "execution_count": null,
      "outputs": []
    },
    {
      "cell_type": "markdown",
      "source": [
        "# Setfit Few-Shot"
      ],
      "metadata": {
        "id": "3H7i1rvWHzLn"
      }
    },
    {
      "cell_type": "code",
      "source": [
        "from setfit import SetFitModel, Trainer, TrainingArguments\n",
        "from sklearn.metrics import classification_report"
      ],
      "metadata": {
        "id": "EWz1GnNsoidw"
      },
      "execution_count": null,
      "outputs": []
    },
    {
      "cell_type": "code",
      "source": [
        "model = SetFitModel.from_pretrained(\"BAAI/bge-base-en-v1.5\")\n",
        "\n",
        "args1 = TrainingArguments(\n",
        "    batch_size=32,\n",
        "    num_epochs=1,\n",
        "    # evaluation_strategy=\"epoch\",\n",
        "    # save_strategy=\"epoch\",\n",
        "    # load_best_model_at_end=True,\n",
        ")\n",
        "\n",
        "trainer1 = Trainer(\n",
        "    model=model,\n",
        "    args=args1,\n",
        "    train_dataset=train_dataset,\n",
        "    eval_dataset=val_dataset,\n",
        "    metric=\"accuracy\",\n",
        "    column_mapping={\"text\": \"text\", \"label\": \"label\"}\n",
        ")"
      ],
      "metadata": {
        "id": "O9Llf7aSoiba"
      },
      "execution_count": null,
      "outputs": []
    },
    {
      "cell_type": "code",
      "source": [
        "trainer1.train()"
      ],
      "metadata": {
        "id": "og3T4OF0oiY2"
      },
      "execution_count": null,
      "outputs": []
    },
    {
      "cell_type": "code",
      "source": [
        "metrics = trainer1.evaluate()\n",
        "metrics"
      ],
      "metadata": {
        "id": "5oYyDjaSoiWs"
      },
      "execution_count": null,
      "outputs": []
    },
    {
      "cell_type": "code",
      "source": [
        "# trainer1.model._save_pretrained(save_directory=\"./model/\")"
      ],
      "metadata": {
        "id": "rQea579zoiT_"
      },
      "execution_count": null,
      "outputs": []
    },
    {
      "cell_type": "code",
      "source": [
        "preds = model.predict(test_dataset['text'])\n",
        "preds"
      ],
      "metadata": {
        "id": "ZREOd_NHocHx"
      },
      "execution_count": null,
      "outputs": []
    },
    {
      "cell_type": "code",
      "source": [
        "# print(classification_report(test_dataset['label'], preds, target_names=classes, digits=4))"
      ],
      "metadata": {
        "id": "o3CylQjgocFQ"
      },
      "execution_count": null,
      "outputs": []
    },
    {
      "cell_type": "code",
      "source": [
        "print(classification_report(test_dataset['label'], preds, digits=4))"
      ],
      "metadata": {
        "id": "37wzMlCpXUyo"
      },
      "execution_count": null,
      "outputs": []
    },
    {
      "cell_type": "markdown",
      "source": [
        "# Comprehand Few-Shot"
      ],
      "metadata": {
        "id": "KgwvQharH6KG"
      }
    },
    {
      "cell_type": "code",
      "source": [
        "from transformers import AutoTokenizer, AutoModelForSequenceClassification\n",
        "\n",
        "model_name = 'knowledgator/comprehend_it-base'\n",
        "\n",
        "tokenizer = AutoTokenizer.from_pretrained(model_name)\n",
        "\n",
        "model = AutoModelForSequenceClassification.from_pretrained(model_name)\n",
        "model"
      ],
      "metadata": {
        "id": "JlxHRn-2XdzA"
      },
      "execution_count": null,
      "outputs": []
    },
    {
      "cell_type": "code",
      "source": [
        "from transformers import TrainingArguments, Trainer\n",
        "from transformers import DataCollatorWithPadding\n",
        "from datasets import Dataset\n",
        "import random\n",
        "import torch\n",
        "import evaluate\n",
        "import numpy as np"
      ],
      "metadata": {
        "id": "ZeK7a4JZXdwf"
      },
      "execution_count": null,
      "outputs": []
    },
    {
      "cell_type": "code",
      "source": [
        "accuracy = evaluate.load(\"accuracy\")\n",
        "accuracy"
      ],
      "metadata": {
        "id": "QhAYUXpPXduD"
      },
      "execution_count": null,
      "outputs": []
    },
    {
      "cell_type": "code",
      "source": [
        "# 샘플 데이터를 10개씩 증강.. (원래 48개인데.. 10문장씩 복사 증강하여 총 데이터가 480개가 됨)\n",
        "\n",
        "def transform_dataset(dataset, classes, template = '{}'):\n",
        "   new_dataset = {'sources':[], 'targets': [], 'labels': []}\n",
        "\n",
        "   texts = dataset['text']\n",
        "   print(f\"texts 앞에 두개: {texts}\")\n",
        "   labels = dataset['label']\n",
        "   print(f\"labels 앞에 두개: {labels}\")\n",
        "\n",
        "   label2count = {}\n",
        "   for label in labels:\n",
        "       if label not in label2count:\n",
        "           label2count[label]=1\n",
        "       else:\n",
        "           label2count[label]+=1\n",
        "   print(f\"label2count: {label2count}\")\n",
        "\n",
        "   count = len(labels)\n",
        "   print(f\"count: {count}\")\n",
        "\n",
        "   label2prob = {label:lc/count for label, lc in label2count.items()}\n",
        "   print(f\"label2prob: {label2prob}\")\n",
        "\n",
        "   unique_labels = list(label2prob)\n",
        "   print(f\"unique_labels: {unique_labels}\")\n",
        "\n",
        "   probs = list(label2prob.values())\n",
        "   print(f\"probs: {probs}\")\n",
        "\n",
        "   ids = list(range(len(labels)))\n",
        "   print(f\"ids: {ids}\")\n",
        "\n",
        "   print(f\"classes: {classes}\")\n",
        "\n",
        "   for text, label_id in zip(texts, labels):\n",
        "       label = classes[label_id]\n",
        "       for i in range(len(classes)-1):\n",
        "           new_dataset['sources'].append(text)\n",
        "           new_dataset['targets'].append(template.format(label))\n",
        "           new_dataset['labels'].append(1.)\n",
        "\n",
        "       print(f\"new_dataset1: {new_dataset}\")\n",
        "\n",
        "       for i in range(len(classes)-1):\n",
        "           neg_class_ = label\n",
        "           while neg_class_==label:\n",
        "               # neg_class_ = random.sample(classes, k=1)[0]\n",
        "               neg_lbl = np.random.choice(unique_labels, p=probs)\n",
        "               neg_class_ = classes[neg_lbl]\n",
        "\n",
        "           new_dataset['sources'].append(text)\n",
        "           new_dataset['targets'].append(template.format(neg_class_))\n",
        "           new_dataset['labels'].append(-1.)\n",
        "       print(f\"new_dataset2: {new_dataset}\")\n",
        "\n",
        "   result = Dataset.from_dict(new_dataset)\n",
        "   print(f\"result : {result}\")\n",
        "   return result"
      ],
      "metadata": {
        "id": "35p3Or7mXdrI"
      },
      "execution_count": null,
      "outputs": []
    },
    {
      "cell_type": "code",
      "source": [
        "def compute_metrics(eval_pred):\n",
        "   predictions, labels = eval_pred\n",
        "\n",
        "   predictions = np.argmax(predictions, axis=1)\n",
        "\n",
        "   return accuracy.compute(predictions=predictions, references=labels)"
      ],
      "metadata": {
        "id": "ZODwbG1NXqa4"
      },
      "execution_count": null,
      "outputs": []
    },
    {
      "cell_type": "code",
      "source": [
        "def tokenize_and_align_label(example):\n",
        "   hypothesis = example['targets']\n",
        "\n",
        "   seq = example[\"sources\"]+hypothesis\n",
        "\n",
        "   tokenized_input = tokenizer(seq, truncation=True, max_length=512,\n",
        "                                                    padding=\"max_length\")\n",
        "\n",
        "   label = example['labels']\n",
        "   if label==1.0:\n",
        "       label = torch.tensor(1)\n",
        "   elif label==0.0:\n",
        "       label = torch.tensor(2)\n",
        "   else:\n",
        "       label = torch.tensor(0)\n",
        "   tokenized_input['label'] = label\n",
        "   return tokenized_input"
      ],
      "metadata": {
        "id": "G3rdaNFaXqYa"
      },
      "execution_count": null,
      "outputs": []
    },
    {
      "cell_type": "code",
      "source": [
        "device = torch.device('cuda' if torch.cuda.is_available() else 'cpu')\n",
        "\n",
        "data_collator = DataCollatorWithPadding(tokenizer=tokenizer)\n",
        "data_collator"
      ],
      "metadata": {
        "id": "hysrabesXqI9"
      },
      "execution_count": null,
      "outputs": []
    },
    {
      "cell_type": "code",
      "source": [
        "dataset = transform_dataset(train_dataset, classes)"
      ],
      "metadata": {
        "id": "Qohnp8HaXurs"
      },
      "execution_count": null,
      "outputs": []
    },
    {
      "cell_type": "code",
      "source": [
        "tokenized_dataset = dataset.map(tokenize_and_align_label)"
      ],
      "metadata": {
        "id": "59p-64JxlZG3"
      },
      "execution_count": null,
      "outputs": []
    },
    {
      "cell_type": "code",
      "source": [
        "tokenized_dataset = tokenized_dataset.train_test_split(test_size=0.1)\n",
        "tokenized_dataset"
      ],
      "metadata": {
        "id": "z77R7TldXupN"
      },
      "execution_count": null,
      "outputs": []
    },
    {
      "cell_type": "code",
      "source": [
        "training_args = TrainingArguments(\n",
        "   output_dir='comprehendo',\n",
        "   learning_rate=3e-5,\n",
        "   per_device_train_batch_size=8,\n",
        "   per_device_eval_batch_size=8,\n",
        "   num_train_epochs=3,\n",
        "   weight_decay=0.01,\n",
        "   evaluation_strategy=\"epoch\",\n",
        ")"
      ],
      "metadata": {
        "id": "H85wwx1MXumg"
      },
      "execution_count": null,
      "outputs": []
    },
    {
      "cell_type": "code",
      "source": [
        "trainer = Trainer(\n",
        "   model=model,\n",
        "   args=training_args,\n",
        "   train_dataset=tokenized_dataset[\"train\"],\n",
        "   eval_dataset=tokenized_dataset['test'],\n",
        "   tokenizer=tokenizer,\n",
        "   data_collator=data_collator,\n",
        "   compute_metrics=compute_metrics,\n",
        ")"
      ],
      "metadata": {
        "id": "As7cJs9LXuj8"
      },
      "execution_count": null,
      "outputs": []
    },
    {
      "cell_type": "code",
      "source": [
        "trainer.train()"
      ],
      "metadata": {
        "id": "IGzC-wOzlj5Y"
      },
      "execution_count": null,
      "outputs": []
    },
    {
      "cell_type": "code",
      "source": [
        "trainer.save_model('comprehender')"
      ],
      "metadata": {
        "id": "aC35hzDYllj8"
      },
      "execution_count": null,
      "outputs": []
    },
    {
      "cell_type": "code",
      "source": [
        "from transformers import pipeline\n",
        "from sklearn.metrics import classification_report\n",
        "from tqdm import tqdm\n",
        "\n",
        "classifier = pipeline(\"zero-shot-classification\",\n",
        "                     model='comprehendo',tokenizer=tokenizer, device=device)"
      ],
      "metadata": {
        "id": "3gm57EKElpfu"
      },
      "execution_count": null,
      "outputs": []
    },
    {
      "cell_type": "code",
      "source": [
        "preds = []\n",
        "label2idx = {label: id for id, label in enumerate(classes)}\n",
        "\n",
        "for example in tqdm(test_dataset):\n",
        "   pred = classifier(example['text'],classes)['labels'][0]\n",
        "   idx = label2idx[pred]\n",
        "   preds.append(idx)\n",
        "\n",
        "print(classification_report(test_dataset['label'], preds,\n",
        "                                        target_names=classes, digits=4))"
      ],
      "metadata": {
        "id": "01Fb1awLlpda"
      },
      "execution_count": null,
      "outputs": []
    },
    {
      "cell_type": "code",
      "source": [],
      "metadata": {
        "id": "_PVoZ7Tdlpa5"
      },
      "execution_count": null,
      "outputs": []
    },
    {
      "cell_type": "code",
      "source": [],
      "metadata": {
        "id": "Q3yQAenJlpXv"
      },
      "execution_count": null,
      "outputs": []
    },
    {
      "cell_type": "code",
      "source": [],
      "metadata": {
        "id": "QyYy_wG5lpSl"
      },
      "execution_count": null,
      "outputs": []
    }
  ]
}